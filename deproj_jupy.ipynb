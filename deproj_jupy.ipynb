{
 "cells": [
  {
   "cell_type": "markdown",
   "metadata": {},
   "source": [
    "# Deprojection"
   ]
  },
  {
   "cell_type": "markdown",
   "metadata": {},
   "source": [
    "The observation made in the sky are usually 2D projections of a 3D structure.\n",
    "A deprojection of this projections is done to infer the 3D structure that can result in such a 2D projection.\n",
    "The following is a very simple attempt to do so with many simplifying assumptions."
   ]
  },
  {
   "cell_type": "markdown",
   "metadata": {},
   "source": [
    "The assumptions:\n",
    "* Spherical symmetry of the 3D structure\n",
    "* Intensity in the projection is equal to the distance measure\n",
    "* Light rays for the projection are coming from a far away uniform backround source\n",
    "* The projection is centered in the viewing area"
   ]
  },
  {
   "cell_type": "markdown",
   "metadata": {},
   "source": [
    "Start off with importing the required packages"
   ]
  },
  {
   "cell_type": "code",
   "execution_count": 52,
   "metadata": {},
   "outputs": [],
   "source": [
    "import numpy as np\n",
    "from matplotlib import pyplot as plt\n",
    "from scipy import integrate as intg"
   ]
  },
  {
   "cell_type": "markdown",
   "metadata": {},
   "source": [
    "To test this method, we first have to create a projection to deproject.\n",
    "This function defines the real radial density profile."
   ]
  },
  {
   "cell_type": "code",
   "execution_count": 53,
   "metadata": {},
   "outputs": [],
   "source": [
    "def real_fr(r):\n",
    "    \"\"\"\n",
    "    The real radial density profile\n",
    "    \"\"\"\n",
    "\n",
    "    r0 = 1.0\n",
    "    rcut = 2.0\n",
    "    if r < rcut:\n",
    "        return np.exp(-r/r0)\n",
    "    else:\n",
    "        return 0.0"
   ]
  },
  {
   "cell_type": "markdown",
   "metadata": {},
   "source": [
    "In this function we calculate the distance measure at given position for intensity in the projection"
   ]
  },
  {
   "cell_type": "code",
   "execution_count": 54,
   "metadata": {},
   "outputs": [],
   "source": [
    "def proj(fr, d, x, y):\n",
    "    \"\"\"\n",
    "    To calculate the projected density value at any given x and y\n",
    "    \"\"\"\n",
    "\n",
    "    R = np.sqrt(x*x+y*y)\n",
    "\n",
    "    def integ(theta):\n",
    "        return (R/np.cos(theta)**2) * fr(R/np.cos(theta))\n",
    "\n",
    "    if R != 0:\n",
    "        return intg.quad(integ, -np.pi/2, np.arctan(d/R),limit=1000)[0]\n",
    "    else:\n",
    "        return 2.0*intg.quad(fr, 0, d,limit=1000)[0]"
   ]
  },
  {
   "cell_type": "markdown",
   "metadata": {},
   "source": [
    "Here we make image out of projection intensities at different positions. The resolution of this image is limited by the instrument specifications."
   ]
  },
  {
   "cell_type": "code",
   "execution_count": 55,
   "metadata": {},
   "outputs": [],
   "source": [
    "def proj_image(N, d_box, D):\n",
    "    \"\"\"\n",
    "    To create the projected density image\n",
    "    \"\"\"\n",
    "\n",
    "    proj_array = np.zeros((N, N), dtype=float)\n",
    "    i_mid = int(N/2)\n",
    "    j_mid = int(N/2)\n",
    "    for i in range(N):\n",
    "        for j in range(N):\n",
    "            x = (j-j_mid)*d_box/N\n",
    "            y = (i_mid-i)*d_box/N\n",
    "\n",
    "            proj_array[i, j] = proj(real_fr, D, x, y)\n",
    "\n",
    "    return proj_array"
   ]
  },
  {
   "cell_type": "markdown",
   "metadata": {},
   "source": [
    "Now, we take this projected image and calculate the projected radial profile."
   ]
  },
  {
   "cell_type": "code",
   "execution_count": 56,
   "metadata": {},
   "outputs": [],
   "source": [
    "def proj_r(proj_arr, d_N, d_box):\n",
    "    \"\"\"\n",
    "    To caculate the theta-averaged projection radial profile\n",
    "    \"\"\"\n",
    "\n",
    "    dr = d_box/d_N\n",
    "    N = np.shape(proj_arr)[0]\n",
    "    n_r = int(0.5*d_box/dr)\n",
    "    i_mid = int(N/2)\n",
    "    j_mid = int(N/2)\n",
    "\n",
    "    rad_prof = np.zeros(n_r, dtype=float)\n",
    "    r_arr = np.zeros_like(rad_prof)\n",
    "\n",
    "    for n in range(n_r-1, -1, -1):\n",
    "        r_a = dr*n\n",
    "        r_b = dr*(n+1)\n",
    "\n",
    "        s = 0.0\n",
    "        count = 0\n",
    "        for i in range(N):\n",
    "            for j in range(N):\n",
    "                x = (j-j_mid)*d_box/N\n",
    "                y = (i_mid-i)*d_box/N\n",
    "                r2 = x*x + y*y\n",
    "\n",
    "                if r_a*r_a <= r2 < r_b*r_b:\n",
    "                    s += proj_arr[i, j]\n",
    "                    count += 1\n",
    "\n",
    "        if count != 0:\n",
    "            rad_prof[n] = s/count\n",
    "\n",
    "        r_arr[n] = (r_b+r_a)*0.5\n",
    "\n",
    "    return rad_prof, r_arr"
   ]
  },
  {
   "cell_type": "markdown",
   "metadata": {},
   "source": [
    "Each of this projected intensity value is sum of contribution from different layers. Hence, this can be written as a system of linear equations with the actual radial density values as the variables."
   ]
  },
  {
   "cell_type": "markdown",
   "metadata": {},
   "source": [
    "In this function we are calculating the coefficients for one such linear equation."
   ]
  },
  {
   "cell_type": "code",
   "execution_count": 57,
   "metadata": {},
   "outputs": [],
   "source": [
    "def eqn_coeff (r_arr,r):\n",
    "\n",
    "    r_N = np.size(r_arr)\n",
    "\n",
    "    coeff_list = []\n",
    "\n",
    "    r_bnd = np.zeros(r_N+1,dtype=float)\n",
    "    r_bnd[1:r_N+1] = r_arr+0.5*(r_arr[1]-r_arr[0])\n",
    "\n",
    "\n",
    "    for i in range(r_N,0,-1):\n",
    "\n",
    "        if r_bnd[i-1]<r:\n",
    "            if r_bnd[i]>r:\n",
    "                coeff = 2*( np.sqrt(r_bnd[i]*r_bnd[i] - r*r ) )\n",
    "            else:\n",
    "                coeff = 0.0\n",
    "\n",
    "        else:\n",
    "            coeff = 2*( np.sqrt(r_bnd[i]*r_bnd[i] - r*r ) - np.sqrt(r_bnd[i-1]*r_bnd[i-1] - r*r ) )\n",
    "\n",
    "        coeff_list.append(coeff)\n",
    "\n",
    "    return np.array(coeff_list)"
   ]
  },
  {
   "cell_type": "markdown",
   "metadata": {},
   "source": [
    "Finally, here we take this system of linear equations and solve it. This gives us the values of actual radial profile."
   ]
  },
  {
   "cell_type": "code",
   "execution_count": 58,
   "metadata": {},
   "outputs": [],
   "source": [
    "def deproj(rad_prof, r_arr):\n",
    "    \"\"\"\n",
    "    To calculate the deprojected radial density profile\n",
    "    \"\"\"\n",
    "\n",
    "    coeff_arr = []\n",
    "\n",
    "    for r in r_arr:\n",
    "\n",
    "        coeff_arr.append(eqn_coeff(r_arr,r))\n",
    "\n",
    "    coeff_arr = np.array(coeff_arr)\n",
    "\n",
    "    rho_dep = np.linalg.solve(coeff_arr,rad_prof)\n",
    "\n",
    "    return rho_dep[::-1]"
   ]
  },
  {
   "cell_type": "markdown",
   "metadata": {},
   "source": [
    "### Constants"
   ]
  },
  {
   "cell_type": "markdown",
   "metadata": {},
   "source": [
    "Here we are defining the constants. Linear pixel density is dependent on the instrument specification. Array size of radial profile should be kept at a value close to linear pixel density to avoid zeros in the profile."
   ]
  },
  {
   "cell_type": "markdown",
   "metadata": {},
   "source": [
    "Box length is synonymous to the field of view. Distance of observer should be large enough so that the observer is not inside the feature."
   ]
  },
  {
   "cell_type": "code",
   "execution_count": 59,
   "metadata": {},
   "outputs": [],
   "source": [
    "N = 40  # Linear pixel density\n",
    "d_N = 40 # Double of array size of radial profile\n",
    "d_box = 6.0  # Box length\n",
    "D = 10.0  # distance of observer from the feature"
   ]
  },
  {
   "cell_type": "markdown",
   "metadata": {},
   "source": [
    "### Calculating the projection \n",
    "This is obtained by observation."
   ]
  },
  {
   "cell_type": "code",
   "execution_count": 60,
   "metadata": {},
   "outputs": [],
   "source": [
    "proj_array = proj_image(N, d_box, D)"
   ]
  },
  {
   "cell_type": "code",
   "execution_count": 61,
   "metadata": {},
   "outputs": [
    {
     "data": {
      "text/plain": [
       "<matplotlib.colorbar.Colorbar at 0x7fb1cadb7cc0>"
      ]
     },
     "execution_count": 61,
     "metadata": {},
     "output_type": "execute_result"
    },
    {
     "data": {
      "image/png": "[encoded data removed]",
      "text/plain": [
       "<Figure size 432x288 with 2 Axes>"
      ]
     },
     "metadata": {
      "needs_background": "light"
     },
     "output_type": "display_data"
    }
   ],
   "source": [
    "plt.imshow(proj_array)\n",
    "plt.title(\"Projected image\")\n",
    "plt.colorbar()"
   ]
  },
  {
   "cell_type": "markdown",
   "metadata": {},
   "source": [
    "### Calculating the radial profile of projection"
   ]
  },
  {
   "cell_type": "code",
   "execution_count": 62,
   "metadata": {},
   "outputs": [],
   "source": [
    "proj_prof, r = proj_r(proj_array, d_N, d_box)"
   ]
  },
  {
   "cell_type": "code",
   "execution_count": 63,
   "metadata": {},
   "outputs": [
    {
     "data": {
      "text/plain": [
       "Text(0, 0.5, 'Projection intensity')"
      ]
     },
     "execution_count": 63,
     "metadata": {},
     "output_type": "execute_result"
    },
    {
     "data": {
      "image/png": "[encoded data removed]",
      "text/plain": [
       "<Figure size 432x288 with 1 Axes>"
      ]
     },
     "metadata": {
      "needs_background": "light"
     },
     "output_type": "display_data"
    }
   ],
   "source": [
    "plt.figure()\n",
    "plt.plot(r, dep)\n",
    "plt.title(\"Projected radial profile\")\n",
    "plt.xlabel(\"x\")\n",
    "plt.ylabel(\"Projection intensity\")"
   ]
  },
  {
   "cell_type": "markdown",
   "metadata": {},
   "source": [
    "### Calculating the deprojected radial profile"
   ]
  },
  {
   "cell_type": "code",
   "execution_count": 64,
   "metadata": {},
   "outputs": [],
   "source": [
    "rho_dep = deproj(proj_prof,r)"
   ]
  },
  {
   "cell_type": "code",
   "execution_count": 65,
   "metadata": {
    "scrolled": false
   },
   "outputs": [
    {
     "data": {
      "text/plain": [
       "<matplotlib.legend.Legend at 0x7fb1cad05eb8>"
      ]
     },
     "execution_count": 65,
     "metadata": {},
     "output_type": "execute_result"
    },
    {
     "data": {
      "image/png": "[encoded data removed]",
      "text/plain": [
       "<Figure size 576x432 with 1 Axes>"
      ]
     },
     "metadata": {
      "needs_background": "light"
     },
     "output_type": "display_data"
    }
   ],
   "source": [
    "plt.figure(figsize=(8,6))\n",
    "plt.plot(r, rho_dep, label=\"Deprojected radial profile\",linewidth=5)\n",
    "plt.plot(r, np.vectorize(real_fr)(r),label=\"Actual radial profile\",linewidth=5,linestyle='dashed')\n",
    "plt.title(\"Actual and deprojected profile\")\n",
    "plt.xlabel(\"x\")\n",
    "plt.ylabel(r\"Density\")\n",
    "plt.legend()"
   ]
  },
  {
   "cell_type": "code",
   "execution_count": null,
   "metadata": {},
   "outputs": [],
   "source": []
  }
 ],
 "metadata": {
  "kernelspec": {
   "display_name": "Python 3",
   "language": "python",
   "name": "python3"
  },
  "language_info": {
   "codemirror_mode": {
    "name": "ipython",
    "version": 3
   },
   "file_extension": ".py",
   "mimetype": "text/x-python",
   "name": "python",
   "nbconvert_exporter": "python",
   "pygments_lexer": "ipython3",
   "version": "3.7.3"
  }
 },
 "nbformat": 4,
 "nbformat_minor": 2
}
